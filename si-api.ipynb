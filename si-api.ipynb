{
 "cells": [
  {
   "cell_type": "code",
   "execution_count": 1,
   "metadata": {},
   "outputs": [],
   "source": [
    "from bs4 import BeautifulSoup\n",
    "import requests\n",
    "import json "
   ]
  },
  {
   "cell_type": "code",
   "execution_count": null,
   "metadata": {},
   "outputs": [],
   "source": [
    "node_id = \"F1916.538\"\n",
    "url = \"https://asia.si.edu/object/\" + node_id\n",
    "req = requests.get(url)\n",
    "soup = BeautifulSoup(req.content, 'html.parser')\n",
    "print(soup.prettify())"
   ]
  },
  {
   "cell_type": "code",
   "execution_count": 38,
   "metadata": {},
   "outputs": [
    {
     "name": "stdout",
     "output_type": "stream",
     "text": [
      "<script class=\"yoast-schema-graph\" type=\"application/ld+json\">{\"@context\":\"https://schema.org\",\"@graph\":[{\"@type\":\"WebPage\",\"@id\":\"https://asia.si.edu/object/F1916.538\",\"url\":\"https://asia.si.edu/object/F1916.538\",\"name\":\"Clearing Autumn Skies over Mountains and Valleys - Smithsonian&#039;s National Museum of Asian Art\",\"isPartOf\":{\"@id\":\"https://asia.si.edu/#website\"},\"primaryImageOfPage\":{\"@id\":\"https://asia.si.edu/object/F1916.538#primaryimage\"},\"image\":{\"@id\":\"https://asia.si.edu/object/F1916.538#primaryimage\"},\"thumbnailUrl\":\"https://ids.si.edu/ids/deliveryService?id=FS-8139_05\",\"datePublished\":\"2018-05-01T06:01:07+00:00\",\"dateModified\":\"2022-10-19T12:27:23+00:00\",\"breadcrumb\":{\"@id\":\"https://asia.si.edu/object/F1916.538#breadcrumb\"},\"inLanguage\":\"en-US\",\"potentialAction\":[{\"@type\":\"ReadAction\",\"target\":[\"https://asia.si.edu/object/F1916.538\"]}]},{\"@type\":\"ImageObject\",\"inLanguage\":\"en-US\",\"@id\":\"https://asia.si.edu/object/F1916.538#primaryimage\",\"url\":\"https://ids.si.edu/ids/deliveryService?id=FS-8139_05\",\"contentUrl\":\"https://ids.si.edu/ids/deliveryService?id=FS-8139_05\"},{\"@type\":\"BreadcrumbList\",\"@id\":\"https://asia.si.edu/object/F1916.538#breadcrumb\",\"itemListElement\":[{\"@type\":\"ListItem\",\"position\":1,\"name\":\"Home\",\"item\":\"https://asia.si.edu/\"},{\"@type\":\"ListItem\",\"position\":2,\"name\":\"TMS Objects\",\"item\":\"https://asia.si.edu/object/\"},{\"@type\":\"ListItem\",\"position\":3,\"name\":\"Clearing Autumn Skies over Mountains and Valleys\"}]},{\"@type\":\"WebSite\",\"@id\":\"https://asia.si.edu/#website\",\"url\":\"https://asia.si.edu/\",\"name\":\"National Museum of Asian Art\",\"description\":\"\",\"publisher\":{\"@id\":\"https://asia.si.edu/#organization\"},\"potentialAction\":[{\"@type\":\"SearchAction\",\"target\":{\"@type\":\"EntryPoint\",\"urlTemplate\":\"https://asia.si.edu/?s={search_term_string}\"},\"query-input\":\"required name=search_term_string\"}],\"inLanguage\":\"en-US\"},{\"@type\":\"Organization\",\"@id\":\"https://asia.si.edu/#organization\",\"name\":\"Smithsonian's National Museum of Asian Art\",\"alternateName\":\"Freer Gallery of Art and Arthur M. Sackler Gallery\",\"url\":\"https://asia.si.edu/\",\"logo\":{\"@type\":\"ImageObject\",\"inLanguage\":\"en-US\",\"@id\":\"https://asia.si.edu/#/schema/logo/image/\",\"url\":\"https://i0.wp.com/asia.si.edu/wp-content/uploads/2022/11/fs-logo-new.jpg?fit=1196%2C65&ssl=1\",\"contentUrl\":\"https://i0.wp.com/asia.si.edu/wp-content/uploads/2022/11/fs-logo-new.jpg?fit=1196%2C65&ssl=1\",\"width\":1196,\"height\":65,\"caption\":\"Smithsonian's National Museum of Asian Art\"},\"image\":{\"@id\":\"https://asia.si.edu/#/schema/logo/image/\"},\"sameAs\":[\"https://www.facebook.com/FreerSackler/\",\"https://twitter.com/freersackler\",\"https://www.instagram.com/freersackler/\",\"https://www.pinterest.com/freersackler/\",\"https://www.youtube.com/user/FreerSackler\"]}]}</script>\n"
     ]
    }
   ],
   "source": [
    "script = \"yoast-schema-graph\"\n",
    "\n",
    "# Find the script tag with the yoast-schema-graph\n",
    "\n",
    "output_blockDict = {}\n",
    "yoast_schema_graph = soup.find(\"script\", {\"type\":\"application/ld+json\", \"class\":script})\n",
    "print(yoast_schema_graph)\n",
    "\n",
    "\n"
   ]
  }
 ],
 "metadata": {
  "kernelspec": {
   "display_name": "Python 3",
   "language": "python",
   "name": "python3"
  },
  "language_info": {
   "codemirror_mode": {
    "name": "ipython",
    "version": 3
   },
   "file_extension": ".py",
   "mimetype": "text/x-python",
   "name": "python",
   "nbconvert_exporter": "python",
   "pygments_lexer": "ipython3",
   "version": "3.10.5"
  },
  "orig_nbformat": 4
 },
 "nbformat": 4,
 "nbformat_minor": 2
}
